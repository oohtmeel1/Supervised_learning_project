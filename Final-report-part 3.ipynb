{
 "cells": [
  {
   "cell_type": "code",
   "execution_count": 2,
   "metadata": {},
   "outputs": [],
   "source": [
    "# First, a ton of libraries\n",
    "# Pandas the usual, along with numpy\n",
    "import pandas as pd\n",
    "import numpy as np\n",
    "from sklearn.model_selection import train_test_split\n",
    "from sklearn.feature_extraction.text import TfidfVectorizer\n",
    "from vaderSentiment.vaderSentiment import SentimentIntensityAnalyzer\n",
    "pd.options.display.max_colwidth = 200\n",
    "import time\n",
    "from sklearn import svm\n",
    "from sklearn.metrics import classification_report\n",
    "\n",
    "import matplotlib.pyplot as plt\n",
    "from sklearn.metrics import confusion_matrix"
   ]
  },
  {
   "cell_type": "markdown",
   "metadata": {},
   "source": [
    "Finally after my data was actually ready to perform analysis on. \n",
    "I vectorized the data using Tfidvectorizer, where each word corresponds to a dimension and identical words end up in the same dimension.\n",
    "I used SK learn SVM to train and test on my data set, using a linear kernel. Since the sentiment is either positive or negative, and the model ends up having a complex feature space, SVM seemed like a good choice.\n",
    "And SVMs work very well on binary classification which this project ended up being. \n",
    "\n",
    "Overall my models performance was pretty good. Precision for both positive and negative was in the 90s. Recall was better for the negative and F1 scores were comparable for both. The accuracy score was also in the 90s. "
   ]
  },
  {
   "cell_type": "code",
   "execution_count": 4,
   "metadata": {},
   "outputs": [
    {
     "data": {
      "text/html": [
       "<div>\n",
       "<style scoped>\n",
       "    .dataframe tbody tr th:only-of-type {\n",
       "        vertical-align: middle;\n",
       "    }\n",
       "\n",
       "    .dataframe tbody tr th {\n",
       "        vertical-align: top;\n",
       "    }\n",
       "\n",
       "    .dataframe thead th {\n",
       "        text-align: right;\n",
       "    }\n",
       "</style>\n",
       "<table border=\"1\" class=\"dataframe\">\n",
       "  <thead>\n",
       "    <tr style=\"text-align: right;\">\n",
       "      <th></th>\n",
       "      <th>Message</th>\n",
       "      <th>Sentiment_result</th>\n",
       "    </tr>\n",
       "  </thead>\n",
       "  <tbody>\n",
       "    <tr>\n",
       "      <th>0</th>\n",
       "      <td>Twas The Night Before Christmas as written by a lawyer Twas the nocturnal segment of the diurnal period preceding the annual  Yuletide celebration was not in evidence among the possessors of this...</td>\n",
       "      <td>pos</td>\n",
       "    </tr>\n",
       "    <tr>\n",
       "      <th>1</th>\n",
       "      <td>Hosiery was meticulously suspended from the forward edge of the  wood burning caloric apparatus regarding an imminent visitation from an eccentric philanthropist among whose  folkloric appellati...</td>\n",
       "      <td>neg</td>\n",
       "    </tr>\n",
       "    <tr>\n",
       "      <th>2</th>\n",
       "      <td>Nicholas party of the  second part.</td>\n",
       "      <td>pos</td>\n",
       "    </tr>\n",
       "    <tr>\n",
       "      <th>3</th>\n",
       "      <td>The prepubescent siblings accommodations of repose hallucinations of variegated fruit confections moving rhythmically through  their cerebrums.</td>\n",
       "      <td>neg</td>\n",
       "    </tr>\n",
       "    <tr>\n",
       "      <th>4</th>\n",
       "      <td>My conjugal partner and I coverings when upon the avenaceous exterior portion of the grounds there ascended such  a cacophony of dissonance that I felt compelled to arise with alacrity from  my ...</td>\n",
       "      <td>pos</td>\n",
       "    </tr>\n",
       "  </tbody>\n",
       "</table>\n",
       "</div>"
      ],
      "text/plain": [
       "                                                                                                                                                                                                   Message  \\\n",
       "0   Twas The Night Before Christmas as written by a lawyer Twas the nocturnal segment of the diurnal period preceding the annual  Yuletide celebration was not in evidence among the possessors of this...   \n",
       "1    Hosiery was meticulously suspended from the forward edge of the  wood burning caloric apparatus regarding an imminent visitation from an eccentric philanthropist among whose  folkloric appellati...   \n",
       "2                                                                                                                                                                      Nicholas party of the  second part.   \n",
       "3                                                          The prepubescent siblings accommodations of repose hallucinations of variegated fruit confections moving rhythmically through  their cerebrums.   \n",
       "4    My conjugal partner and I coverings when upon the avenaceous exterior portion of the grounds there ascended such  a cacophony of dissonance that I felt compelled to arise with alacrity from  my ...   \n",
       "\n",
       "  Sentiment_result  \n",
       "0              pos  \n",
       "1              neg  \n",
       "2              pos  \n",
       "3              neg  \n",
       "4              pos  "
      ]
     },
     "execution_count": 4,
     "metadata": {},
     "output_type": "execute_result"
    }
   ],
   "source": [
    "# I then Crated labels of positive and negative based on the ratings and my new file became\n",
    "df=pd.read_csv('labelled_data')\n",
    "df = df.reset_index(drop=True)\n",
    "\n",
    "df=df[['Message','Sentiment_result']]\n",
    "df.head() "
   ]
  },
  {
   "cell_type": "code",
   "execution_count": 5,
   "metadata": {},
   "outputs": [],
   "source": [
    "import re\n",
    "df= pd.read_csv('labelled_data')\n",
    "patterin = r'([F{2,}])'\n",
    "df = df.replace(patterin, \" \",regex=True)\n",
    "patterin = r'([X{2,}])'\n",
    "df = df.replace(patterin, \" \",regex=True)\n",
    "df = df[['Message','Sentiment_result']]\n",
    "df = df.reset_index(drop=True)\n",
    "df = df.loc[df.Message.str.len() > 5].reset_index(drop=True)"
   ]
  },
  {
   "cell_type": "code",
   "execution_count": 6,
   "metadata": {},
   "outputs": [],
   "source": [
    "# Shaping data\n",
    "df.shape\n",
    "# Splitting it\n",
    "train, test = train_test_split(df, test_size=0.2)\n",
    "# Just very basic here\n",
    "vectorizer = TfidfVectorizer()\n",
    "# Train and transform\n",
    "train_vectors1 = vectorizer.fit_transform(train['Message'])\n",
    "test_vectors1 = vectorizer.transform(test['Message'])"
   ]
  },
  {
   "cell_type": "code",
   "execution_count": 7,
   "metadata": {},
   "outputs": [],
   "source": [
    "classifier_linear = svm.SVC(kernel='linear')\n",
    "\n",
    "classifier_linear.fit(train_vectors1, train['Sentiment_result'])\n",
    "\n",
    "prediction_linear = classifier_linear.predict(test_vectors1)\n",
    "y_pred=prediction_linear\n",
    "y_true=test['Sentiment_result']\n"
   ]
  },
  {
   "cell_type": "code",
   "execution_count": 8,
   "metadata": {},
   "outputs": [],
   "source": [
    "# Now for a non-linear-classifier\n",
    "report = classification_report(y_true, y_pred, output_dict=True)"
   ]
  },
  {
   "cell_type": "code",
   "execution_count": 9,
   "metadata": {},
   "outputs": [
    {
     "data": {
      "text/html": [
       "<div>\n",
       "<style scoped>\n",
       "    .dataframe tbody tr th:only-of-type {\n",
       "        vertical-align: middle;\n",
       "    }\n",
       "\n",
       "    .dataframe tbody tr th {\n",
       "        vertical-align: top;\n",
       "    }\n",
       "\n",
       "    .dataframe thead th {\n",
       "        text-align: right;\n",
       "    }\n",
       "</style>\n",
       "<table border=\"1\" class=\"dataframe\">\n",
       "  <thead>\n",
       "    <tr style=\"text-align: right;\">\n",
       "      <th></th>\n",
       "      <th>neg</th>\n",
       "      <th>pos</th>\n",
       "      <th>accuracy</th>\n",
       "      <th>macro avg</th>\n",
       "      <th>weighted avg</th>\n",
       "    </tr>\n",
       "  </thead>\n",
       "  <tbody>\n",
       "    <tr>\n",
       "      <th>precision</th>\n",
       "      <td>0.954246</td>\n",
       "      <td>0.956858</td>\n",
       "      <td>0.955075</td>\n",
       "      <td>0.955552</td>\n",
       "      <td>0.955120</td>\n",
       "    </tr>\n",
       "    <tr>\n",
       "      <th>recall</th>\n",
       "      <td>0.979435</td>\n",
       "      <td>0.906650</td>\n",
       "      <td>0.955075</td>\n",
       "      <td>0.943043</td>\n",
       "      <td>0.955075</td>\n",
       "    </tr>\n",
       "    <tr>\n",
       "      <th>f1-score</th>\n",
       "      <td>0.966677</td>\n",
       "      <td>0.931078</td>\n",
       "      <td>0.955075</td>\n",
       "      <td>0.948877</td>\n",
       "      <td>0.954762</td>\n",
       "    </tr>\n",
       "    <tr>\n",
       "      <th>support</th>\n",
       "      <td>3258.000000</td>\n",
       "      <td>1639.000000</td>\n",
       "      <td>0.955075</td>\n",
       "      <td>4897.000000</td>\n",
       "      <td>4897.000000</td>\n",
       "    </tr>\n",
       "  </tbody>\n",
       "</table>\n",
       "</div>"
      ],
      "text/plain": [
       "                   neg          pos  accuracy    macro avg  weighted avg\n",
       "precision     0.954246     0.956858  0.955075     0.955552      0.955120\n",
       "recall        0.979435     0.906650  0.955075     0.943043      0.955075\n",
       "f1-score      0.966677     0.931078  0.955075     0.948877      0.954762\n",
       "support    3258.000000  1639.000000  0.955075  4897.000000   4897.000000"
      ]
     },
     "execution_count": 9,
     "metadata": {},
     "output_type": "execute_result"
    }
   ],
   "source": [
    "report = pd.DataFrame(report)\n",
    "report"
   ]
  },
  {
   "cell_type": "code",
   "execution_count": 10,
   "metadata": {},
   "outputs": [
    {
     "data": {
      "text/plain": [
       "array([[3191,   67],\n",
       "       [ 153, 1486]], dtype=int64)"
      ]
     },
     "execution_count": 10,
     "metadata": {},
     "output_type": "execute_result"
    }
   ],
   "source": [
    "matrix=confusion_matrix(y_true,y_pred)\n",
    "matrix"
   ]
  },
  {
   "cell_type": "code",
   "execution_count": 12,
   "metadata": {},
   "outputs": [
    {
     "data": {
      "text/plain": [
       "<AxesSubplot: >"
      ]
     },
     "execution_count": 12,
     "metadata": {},
     "output_type": "execute_result"
    },
    {
     "data": {
      "image/png": "[encoded data removed]",
      "text/plain": [
       "<Figure size 640x480 with 2 Axes>"
      ]
     },
     "metadata": {},
     "output_type": "display_data"
    }
   ],
   "source": [
    "import seaborn as sns\n",
    "labels = ['True Neg: 3247','False Pos : 62','False Neg : 179','True Pos: 1409']\n",
    "labels = np.asarray(labels).reshape(2,2)\n",
    "sns.heatmap(matrix, annot=labels, fmt='', cmap='Blues')\n"
   ]
  },
  {
   "cell_type": "code",
   "execution_count": 13,
   "metadata": {},
   "outputs": [],
   "source": [
    "df1 = df[df[\"Sentiment_result\"].str.contains(\"neutral\") == False]"
   ]
  },
  {
   "cell_type": "code",
   "execution_count": 14,
   "metadata": {},
   "outputs": [
    {
     "data": {
      "text/plain": [
       "Text(0, 0.5, 'Sentiments')"
      ]
     },
     "execution_count": 14,
     "metadata": {},
     "output_type": "execute_result"
    },
    {
     "data": {
      "image/png": "[encoded data removed]",
      "text/plain": [
       "<Figure size 640x480 with 1 Axes>"
      ]
     },
     "metadata": {},
     "output_type": "display_data"
    }
   ],
   "source": [
    "df1['Sentiment_result'].value_counts().plot(kind='barh')\n",
    "plt.xlabel('Counts')\n",
    "plt.ylabel('Sentiments')"
   ]
  },
  {
   "cell_type": "code",
   "execution_count": null,
   "metadata": {},
   "outputs": [],
   "source": []
  }
 ],
 "metadata": {
  "kernelspec": {
   "display_name": "Python 3",
   "language": "python",
   "name": "python3"
  },
  "language_info": {
   "codemirror_mode": {
    "name": "ipython",
    "version": 3
   },
   "file_extension": ".py",
   "mimetype": "text/x-python",
   "name": "python",
   "nbconvert_exporter": "python",
   "pygments_lexer": "ipython3",
   "version": "3.11.4"
  },
  "orig_nbformat": 4
 },
 "nbformat": 4,
 "nbformat_minor": 2
}
