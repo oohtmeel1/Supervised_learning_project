{
 "cells": [
  {
   "cell_type": "code",
   "execution_count": null,
   "metadata": {},
   "outputs": [],
   "source": [
    "\n",
    "# Beginning of project:\n",
    "# This project took a data set from the Enron scandal of the 2000s and used it for sentiment analysis. \n",
    "# It was a fun learning experience. \n",
    "# I used regex to help clean the many random items from the dataset, \n",
    "# I used Vader sentiment to help me with the sentiment analysis itself, because I had to \n",
    "# Do it by hand\n",
    "# Vader uses a lexicon and rule based algorithm to perform this analysis\n",
    "# I then used Sklearn to perform SVm classification and test on my data\n",
    "# My goal was to explain what the overall sentiment of the company was. \n"
   ]
  },
  {
   "cell_type": "markdown",
   "metadata": {},
   "source": [
    "The websites I used were:\n",
    "https://www.cs.cmu.edu/~enron/ \n",
    "//www.thepythoncode.com/article/vaderSentiment-tool-to-extract-sentimental-values-in-texts-using-python\n",
    "\n",
    "The data set is so large that I cannot put it on github but it can be found at the link above."
   ]
  },
  {
   "cell_type": "code",
   "execution_count": 2,
   "metadata": {},
   "outputs": [],
   "source": [
    "# First, a ton of libraries\n",
    "# Pandas the usual, along with numpy\n",
    "import pandas as pd\n",
    "import numpy as np\n",
    "from sklearn.model_selection import train_test_split\n",
    "from sklearn.feature_extraction.text import TfidfVectorizer\n",
    "from vaderSentiment.vaderSentiment import SentimentIntensityAnalyzer\n",
    "pd.options.display.max_colwidth = 200\n",
    "import time\n",
    "from sklearn import svm\n",
    "from sklearn.metrics import classification_report\n",
    "\n",
    "import matplotlib.pyplot as plt\n",
    "from sklearn.metrics import confusion_matrix"
   ]
  },
  {
   "cell_type": "code",
   "execution_count": 4,
   "metadata": {},
   "outputs": [],
   "source": [
    "\n",
    "#df = pd.read_csv(\"enron_mail_201505.tar.gz\", error_bad_lines=False, encoding = 'latin1')\n",
    "#df.to_csv(\"New folder/newfile1.csv\")\n"
   ]
  },
  {
   "cell_type": "code",
   "execution_count": null,
   "metadata": {},
   "outputs": [],
   "source": [
    "# I then saved it to a csv so it was easier to handle."
   ]
  },
  {
   "cell_type": "code",
   "execution_count": null,
   "metadata": {},
   "outputs": [],
   "source": [
    "# Because the data was not curated at all I had to \n",
    "# through the steps of cleaning it manually through trial and error"
   ]
  },
  {
   "cell_type": "code",
   "execution_count": null,
   "metadata": {},
   "outputs": [],
   "source": [
    "# tons of Regex, tons of stuff that worked and maybe did not\n",
    "pattern = \"^\\w+:\\s+[\\w.+-]+@[\\w-]+\\.[\\w.-]+\"\n",
    "filt = df['Unnamed:0'].str.contains(pattern)\n",
    "df = df[~filt]\n",
    "df.to_csv(\"Filtering_step_1.csv\")\n",
    "df1=pd.read_csv('Filtering_step_1.csv')\n",
    "pattern = \"^\\w+:\\s+[\\w.+-]+.\\s+[\\w.+-]+.*?ENRON\"\n",
    "filt = df1['Unnamed: 0'].str.contains(pattern,na=False)\n",
    "df = df1[~filt]\n",
    "pattern = \"Subject:.*($|\\s)\"\n",
    "df1 = df[~filt]\n",
    "new_df = pd.DataFrame(columns=['Dates', 'Times', 'Messages'])\n",
    "# First regex\n",
    "dates = r\"Date:.*$\"\n",
    "# Filtering the times\n",
    "times = r\"^.*?(PDT).\"\n",
    "# Now this might work to filter out a bunch of stuff(Anything that does not have :)\n",
    "messages = r\"^(?!.*:).*\""
   ]
  },
  {
   "cell_type": "code",
   "execution_count": null,
   "metadata": {},
   "outputs": [],
   "source": [
    "filtdate = []\n",
    "if len(new_df['Dates']) == 0:\n",
    "    filt = df['Unnamed: 0'].str.contains(dates,na=False)\n",
    "    filtdate = filt[0]"
   ]
  },
  {
   "cell_type": "code",
   "execution_count": null,
   "metadata": {},
   "outputs": [],
   "source": [
    "df3 = df[filt]\n",
    "df3=df3.rename(columns={\"Unnamed: 0.1\": \"Message\",\"Unnamed: 0\": \"Day\", \"maildir/\": \"Date_and_time\"})"
   ]
  },
  {
   "cell_type": "code",
   "execution_count": null,
   "metadata": {},
   "outputs": [],
   "source": [
    "# Now I have something to use to search a list of indexes\n",
    "searching=df3.index.values\n",
    "# made some variables\n",
    "i = searching[1]\n",
    "j = searching[2]"
   ]
  },
  {
   "cell_type": "code",
   "execution_count": null,
   "metadata": {},
   "outputs": [],
   "source": [
    "searcher =list(searching)\n",
    "searcher=searcher[1:]\n",
    "searcher=searcher[1:]\n",
    "searcher=np.array(searcher)\n",
    "i =searcher[0]\n",
    "j = searcher[1]\n",
    "filt = df1.contains(messages,na=False) \n",
    "filt = df1['Unnamed: 0'].str.contains(messages,na=False) \n",
    "df7 = df1[filt]\n",
    "selection=df7['Unnamed: 0'] #Select\n",
    "selection = pd.DataFrame(selection)\n",
    "selection=selection.rename(columns={\"Unnamed: 0\": \"Message\"}) # Rename cols\n",
    "df5 = df3.append(selection, ignore_index=False) # append to my df\n",
    "df5 = df5.sort_index() # sort index\n",
    "df5.head(10)\n"
   ]
  },
  {
   "cell_type": "code",
   "execution_count": 9,
   "metadata": {},
   "outputs": [],
   "source": [
    "# Then I think I had to stuff all the data back together This is after a bunch of cleaning\n",
    "\n",
    "df=pd.read_csv(\"Filtering_step_2.csv\")"
   ]
  },
  {
   "cell_type": "code",
   "execution_count": 10,
   "metadata": {},
   "outputs": [
    {
     "data": {
      "text/html": [
       "<div>\n",
       "<style scoped>\n",
       "    .dataframe tbody tr th:only-of-type {\n",
       "        vertical-align: middle;\n",
       "    }\n",
       "\n",
       "    .dataframe tbody tr th {\n",
       "        vertical-align: top;\n",
       "    }\n",
       "\n",
       "    .dataframe thead th {\n",
       "        text-align: right;\n",
       "    }\n",
       "</style>\n",
       "<table border=\"1\" class=\"dataframe\">\n",
       "  <thead>\n",
       "    <tr style=\"text-align: right;\">\n",
       "      <th></th>\n",
       "      <th>Unnamed: 0</th>\n",
       "      <th>Message</th>\n",
       "      <th>Day</th>\n",
       "      <th>Date_and_time</th>\n",
       "    </tr>\n",
       "  </thead>\n",
       "  <tbody>\n",
       "    <tr>\n",
       "      <th>0</th>\n",
       "      <td>0</td>\n",
       "      <td>0</td>\n",
       "      <td>Date: Fri</td>\n",
       "      <td>14 Sep 2001 14:05:43 -0700 (PDT)</td>\n",
       "    </tr>\n",
       "    <tr>\n",
       "      <th>1</th>\n",
       "      <td>12</td>\n",
       "      <td>Name\\t\\t\\tNew Title\\t\\t\\t\\tEffective Date\\t\\t\\tMid Year promotion Yes/No</td>\n",
       "      <td>NaN</td>\n",
       "      <td>NaN</td>\n",
       "    </tr>\n",
       "    <tr>\n",
       "      <th>2</th>\n",
       "      <td>13</td>\n",
       "      <td>Floyd</td>\n",
       "      <td>NaN</td>\n",
       "      <td>NaN</td>\n",
       "    </tr>\n",
       "    <tr>\n",
       "      <th>3</th>\n",
       "      <td>14</td>\n",
       "      <td>Buehler</td>\n",
       "      <td>NaN</td>\n",
       "      <td>NaN</td>\n",
       "    </tr>\n",
       "    <tr>\n",
       "      <th>4</th>\n",
       "      <td>15</td>\n",
       "      <td>Wagoner</td>\n",
       "      <td>NaN</td>\n",
       "      <td>NaN</td>\n",
       "    </tr>\n",
       "  </tbody>\n",
       "</table>\n",
       "</div>"
      ],
      "text/plain": [
       "   Unnamed: 0  \\\n",
       "0           0   \n",
       "1          12   \n",
       "2          13   \n",
       "3          14   \n",
       "4          15   \n",
       "\n",
       "                                                                    Message  \\\n",
       "0                                                                         0   \n",
       "1  Name\\t\\t\\tNew Title\\t\\t\\t\\tEffective Date\\t\\t\\tMid Year promotion Yes/No   \n",
       "2                                                                     Floyd   \n",
       "3                                                                   Buehler   \n",
       "4                                                                   Wagoner   \n",
       "\n",
       "         Day                      Date_and_time  \n",
       "0  Date: Fri   14 Sep 2001 14:05:43 -0700 (PDT)  \n",
       "1        NaN                                NaN  \n",
       "2        NaN                                NaN  \n",
       "3        NaN                                NaN  \n",
       "4        NaN                                NaN  "
      ]
     },
     "execution_count": 10,
     "metadata": {},
     "output_type": "execute_result"
    }
   ],
   "source": [
    "df.head()"
   ]
  },
  {
   "cell_type": "code",
   "execution_count": null,
   "metadata": {},
   "outputs": [],
   "source": [
    "# It looks much better, I did more Eda and then finally came up with a reduced file.\n",
    "# Dropping Nans etc"
   ]
  },
  {
   "cell_type": "code",
   "execution_count": 163,
   "metadata": {},
   "outputs": [
    {
     "data": {
      "text/plain": [
       "30001"
      ]
     },
     "execution_count": 163,
     "metadata": {},
     "output_type": "execute_result"
    }
   ],
   "source": [
    "len(df)"
   ]
  },
  {
   "cell_type": "code",
   "execution_count": 25,
   "metadata": {},
   "outputs": [],
   "source": [
    "df=pd.read_csv(\"Dataframe_toWork_with\")"
   ]
  },
  {
   "cell_type": "code",
   "execution_count": 26,
   "metadata": {},
   "outputs": [
    {
     "data": {
      "text/html": [
       "<div>\n",
       "<style scoped>\n",
       "    .dataframe tbody tr th:only-of-type {\n",
       "        vertical-align: middle;\n",
       "    }\n",
       "\n",
       "    .dataframe tbody tr th {\n",
       "        vertical-align: top;\n",
       "    }\n",
       "\n",
       "    .dataframe thead th {\n",
       "        text-align: right;\n",
       "    }\n",
       "</style>\n",
       "<table border=\"1\" class=\"dataframe\">\n",
       "  <thead>\n",
       "    <tr style=\"text-align: right;\">\n",
       "      <th></th>\n",
       "      <th>Unnamed: 0</th>\n",
       "      <th>Date</th>\n",
       "      <th>Message</th>\n",
       "    </tr>\n",
       "  </thead>\n",
       "  <tbody>\n",
       "    <tr>\n",
       "      <th>0</th>\n",
       "      <td>0</td>\n",
       "      <td>1998-12-03</td>\n",
       "      <td>'Twas The Night Before Christmas as written by a lawyer 'Twas the nocturnal segment of the diurnal period preceding the annual  Yuletide celebration was not in evidence among the possessors of th...</td>\n",
       "    </tr>\n",
       "    <tr>\n",
       "      <th>1</th>\n",
       "      <td>1</td>\n",
       "      <td>1998-12-03</td>\n",
       "      <td>Hosiery was meticulously suspended from the forward edge of the  wood burning caloric apparatus regarding an imminent visitation from an eccentric philanthropist among whose  folkloric appellati...</td>\n",
       "    </tr>\n",
       "    <tr>\n",
       "      <th>2</th>\n",
       "      <td>2</td>\n",
       "      <td>1998-12-03</td>\n",
       "      <td>Nicholas (party of the  second part).</td>\n",
       "    </tr>\n",
       "    <tr>\n",
       "      <th>3</th>\n",
       "      <td>3</td>\n",
       "      <td>1998-12-03</td>\n",
       "      <td>The prepubescent siblings accommodations of repose hallucinations of variegated fruit confections moving rhythmically through  their cerebrums.</td>\n",
       "    </tr>\n",
       "    <tr>\n",
       "      <th>4</th>\n",
       "      <td>4</td>\n",
       "      <td>1998-12-03</td>\n",
       "      <td>My conjugal partner and I coverings when upon the avenaceous exterior portion of the grounds there ascended such  a cacophony of dissonance that I felt compelled to arise with alacrity from  my ...</td>\n",
       "    </tr>\n",
       "  </tbody>\n",
       "</table>\n",
       "</div>"
      ],
      "text/plain": [
       "   Unnamed: 0        Date  \\\n",
       "0           0  1998-12-03   \n",
       "1           1  1998-12-03   \n",
       "2           2  1998-12-03   \n",
       "3           3  1998-12-03   \n",
       "4           4  1998-12-03   \n",
       "\n",
       "                                                                                                                                                                                                   Message  \n",
       "0   'Twas The Night Before Christmas as written by a lawyer 'Twas the nocturnal segment of the diurnal period preceding the annual  Yuletide celebration was not in evidence among the possessors of th...  \n",
       "1    Hosiery was meticulously suspended from the forward edge of the  wood burning caloric apparatus regarding an imminent visitation from an eccentric philanthropist among whose  folkloric appellati...  \n",
       "2                                                                                                                                                                    Nicholas (party of the  second part).  \n",
       "3                                                          The prepubescent siblings accommodations of repose hallucinations of variegated fruit confections moving rhythmically through  their cerebrums.  \n",
       "4    My conjugal partner and I coverings when upon the avenaceous exterior portion of the grounds there ascended such  a cacophony of dissonance that I felt compelled to arise with alacrity from  my ...  "
      ]
     },
     "execution_count": 26,
     "metadata": {},
     "output_type": "execute_result"
    }
   ],
   "source": [
    "df.head()"
   ]
  },
  {
   "cell_type": "code",
   "execution_count": 27,
   "metadata": {},
   "outputs": [],
   "source": [
    "sentences = df[\"Message\"]\n",
    "Trying_small = sentences[0:10000]\n",
    "df['Compound']= \"\"\n",
    "analyzer = SentimentIntensityAnalyzer()"
   ]
  },
  {
   "cell_type": "code",
   "execution_count": 28,
   "metadata": {},
   "outputs": [],
   "source": [
    "dicti = []\n",
    "for sentence in Trying_small:\n",
    "   score = analyzer.polarity_scores(sentence)[\"compound\"]\n",
    "   dicti.append(score)"
   ]
  },
  {
   "cell_type": "code",
   "execution_count": 29,
   "metadata": {},
   "outputs": [
    {
     "data": {
      "text/plain": [
       "7044891"
      ]
     },
     "execution_count": 29,
     "metadata": {},
     "output_type": "execute_result"
    }
   ],
   "source": [
    "len(df)"
   ]
  },
  {
   "cell_type": "code",
   "execution_count": 30,
   "metadata": {},
   "outputs": [],
   "source": [
    "Trying_small1 = sentences[4040001:4050000]\n"
   ]
  },
  {
   "cell_type": "code",
   "execution_count": 31,
   "metadata": {},
   "outputs": [
    {
     "data": {
      "text/plain": [
       "7044891"
      ]
     },
     "execution_count": 31,
     "metadata": {},
     "output_type": "execute_result"
    }
   ],
   "source": [
    "len(df)"
   ]
  },
  {
   "cell_type": "code",
   "execution_count": 32,
   "metadata": {},
   "outputs": [],
   "source": [
    "dicti2 = []\n",
    "for sentence in Trying_small1:\n",
    "   score = analyzer.polarity_scores(sentence)[\"compound\"]\n",
    "   dicti2.append(score)"
   ]
  },
  {
   "cell_type": "code",
   "execution_count": 33,
   "metadata": {},
   "outputs": [
    {
     "data": {
      "text/plain": [
       "7044891"
      ]
     },
     "execution_count": 33,
     "metadata": {},
     "output_type": "execute_result"
    }
   ],
   "source": [
    "len(df)"
   ]
  },
  {
   "cell_type": "code",
   "execution_count": 34,
   "metadata": {},
   "outputs": [],
   "source": [
    "Trying_small2 = sentences[7034892:7044891]"
   ]
  },
  {
   "cell_type": "code",
   "execution_count": 35,
   "metadata": {},
   "outputs": [
    {
     "data": {
      "text/plain": [
       "7044891"
      ]
     },
     "execution_count": 35,
     "metadata": {},
     "output_type": "execute_result"
    }
   ],
   "source": [
    "len(df)"
   ]
  },
  {
   "cell_type": "code",
   "execution_count": 36,
   "metadata": {},
   "outputs": [],
   "source": [
    "dicti3 = []\n",
    "for sentence in Trying_small2:\n",
    "   score = analyzer.polarity_scores(sentence)[\"compound\"]\n",
    "   dicti3.append(score)"
   ]
  },
  {
   "cell_type": "code",
   "execution_count": 37,
   "metadata": {},
   "outputs": [],
   "source": [
    "beginning = df[0:10000]\n",
    "middle=df[4040001:4050000]\n",
    "end=df[7034892:7044891]"
   ]
  },
  {
   "cell_type": "code",
   "execution_count": 38,
   "metadata": {},
   "outputs": [
    {
     "data": {
      "text/plain": [
       "7044891"
      ]
     },
     "execution_count": 38,
     "metadata": {},
     "output_type": "execute_result"
    }
   ],
   "source": [
    "len(df)"
   ]
  },
  {
   "cell_type": "code",
   "execution_count": 39,
   "metadata": {},
   "outputs": [
    {
     "data": {
      "text/html": [
       "<div>\n",
       "<style scoped>\n",
       "    .dataframe tbody tr th:only-of-type {\n",
       "        vertical-align: middle;\n",
       "    }\n",
       "\n",
       "    .dataframe tbody tr th {\n",
       "        vertical-align: top;\n",
       "    }\n",
       "\n",
       "    .dataframe thead th {\n",
       "        text-align: right;\n",
       "    }\n",
       "</style>\n",
       "<table border=\"1\" class=\"dataframe\">\n",
       "  <thead>\n",
       "    <tr style=\"text-align: right;\">\n",
       "      <th></th>\n",
       "      <th>Unnamed: 0</th>\n",
       "      <th>Date</th>\n",
       "      <th>Message</th>\n",
       "      <th>Compound</th>\n",
       "    </tr>\n",
       "  </thead>\n",
       "  <tbody>\n",
       "    <tr>\n",
       "      <th>0</th>\n",
       "      <td>0</td>\n",
       "      <td>1998-12-03</td>\n",
       "      <td>'Twas The Night Before Christmas as written by a lawyer 'Twas the nocturnal segment of the diurnal period preceding the annual  Yuletide celebration was not in evidence among the possessors of th...</td>\n",
       "      <td></td>\n",
       "    </tr>\n",
       "    <tr>\n",
       "      <th>1</th>\n",
       "      <td>1</td>\n",
       "      <td>1998-12-03</td>\n",
       "      <td>Hosiery was meticulously suspended from the forward edge of the  wood burning caloric apparatus regarding an imminent visitation from an eccentric philanthropist among whose  folkloric appellati...</td>\n",
       "      <td></td>\n",
       "    </tr>\n",
       "    <tr>\n",
       "      <th>2</th>\n",
       "      <td>2</td>\n",
       "      <td>1998-12-03</td>\n",
       "      <td>Nicholas (party of the  second part).</td>\n",
       "      <td></td>\n",
       "    </tr>\n",
       "    <tr>\n",
       "      <th>3</th>\n",
       "      <td>3</td>\n",
       "      <td>1998-12-03</td>\n",
       "      <td>The prepubescent siblings accommodations of repose hallucinations of variegated fruit confections moving rhythmically through  their cerebrums.</td>\n",
       "      <td></td>\n",
       "    </tr>\n",
       "    <tr>\n",
       "      <th>4</th>\n",
       "      <td>4</td>\n",
       "      <td>1998-12-03</td>\n",
       "      <td>My conjugal partner and I coverings when upon the avenaceous exterior portion of the grounds there ascended such  a cacophony of dissonance that I felt compelled to arise with alacrity from  my ...</td>\n",
       "      <td></td>\n",
       "    </tr>\n",
       "    <tr>\n",
       "      <th>...</th>\n",
       "      <td>...</td>\n",
       "      <td>...</td>\n",
       "      <td>...</td>\n",
       "      <td>...</td>\n",
       "    </tr>\n",
       "    <tr>\n",
       "      <th>7044886</th>\n",
       "      <td>7044886</td>\n",
       "      <td>2001-12-31</td>\n",
       "      <td>.</td>\n",
       "      <td></td>\n",
       "    </tr>\n",
       "    <tr>\n",
       "      <th>7044887</th>\n",
       "      <td>7044887</td>\n",
       "      <td>2001-12-31</td>\n",
       "      <td>More Videos                          Than You Have Free Time And Clean Undies As Well As Loads                          Of Live Feeds And Live Chats To Keep You Going On Those                     ...</td>\n",
       "      <td></td>\n",
       "    </tr>\n",
       "    <tr>\n",
       "      <th>7044888</th>\n",
       "      <td>7044888</td>\n",
       "      <td>2001-12-31</td>\n",
       "      <td>.</td>\n",
       "      <td></td>\n",
       "    </tr>\n",
       "    <tr>\n",
       "      <th>7044889</th>\n",
       "      <td>7044889</td>\n",
       "      <td>2001-12-31</td>\n",
       "      <td>.</td>\n",
       "      <td></td>\n",
       "    </tr>\n",
       "    <tr>\n",
       "      <th>7044890</th>\n",
       "      <td>7044890</td>\n",
       "      <td>2001-12-31</td>\n",
       "      <td>For The Exclusive  Day &lt;font color=\"#FF\"&gt;&lt;b&gt;$.</td>\n",
       "      <td></td>\n",
       "    </tr>\n",
       "  </tbody>\n",
       "</table>\n",
       "<p>7044891 rows × 4 columns</p>\n",
       "</div>"
      ],
      "text/plain": [
       "         Unnamed: 0        Date  \\\n",
       "0                 0  1998-12-03   \n",
       "1                 1  1998-12-03   \n",
       "2                 2  1998-12-03   \n",
       "3                 3  1998-12-03   \n",
       "4                 4  1998-12-03   \n",
       "...             ...         ...   \n",
       "7044886     7044886  2001-12-31   \n",
       "7044887     7044887  2001-12-31   \n",
       "7044888     7044888  2001-12-31   \n",
       "7044889     7044889  2001-12-31   \n",
       "7044890     7044890  2001-12-31   \n",
       "\n",
       "                                                                                                                                                                                                         Message  \\\n",
       "0         'Twas The Night Before Christmas as written by a lawyer 'Twas the nocturnal segment of the diurnal period preceding the annual  Yuletide celebration was not in evidence among the possessors of th...   \n",
       "1          Hosiery was meticulously suspended from the forward edge of the  wood burning caloric apparatus regarding an imminent visitation from an eccentric philanthropist among whose  folkloric appellati...   \n",
       "2                                                                                                                                                                          Nicholas (party of the  second part).   \n",
       "3                                                                The prepubescent siblings accommodations of repose hallucinations of variegated fruit confections moving rhythmically through  their cerebrums.   \n",
       "4          My conjugal partner and I coverings when upon the avenaceous exterior portion of the grounds there ascended such  a cacophony of dissonance that I felt compelled to arise with alacrity from  my ...   \n",
       "...                                                                                                                                                                                                          ...   \n",
       "7044886                                                                                                                                                                                                        .   \n",
       "7044887  More Videos                          Than You Have Free Time And Clean Undies As Well As Loads                          Of Live Feeds And Live Chats To Keep You Going On Those                     ...   \n",
       "7044888                                                                                                                                                                                                        .   \n",
       "7044889                                                                                                                                                                                                        .   \n",
       "7044890                                                                                                                                                           For The Exclusive  Day <font color=\"#FF\"><b>$.   \n",
       "\n",
       "        Compound  \n",
       "0                 \n",
       "1                 \n",
       "2                 \n",
       "3                 \n",
       "4                 \n",
       "...          ...  \n",
       "7044886           \n",
       "7044887           \n",
       "7044888           \n",
       "7044889           \n",
       "7044890           \n",
       "\n",
       "[7044891 rows x 4 columns]"
      ]
     },
     "execution_count": 39,
     "metadata": {},
     "output_type": "execute_result"
    }
   ],
   "source": [
    "df"
   ]
  },
  {
   "cell_type": "code",
   "execution_count": 40,
   "metadata": {},
   "outputs": [],
   "source": [
    "beginning = df[0:10000]\n",
    "middle=df[4040001:4050000]\n",
    "end=df[7034892:7044891]\n",
    "beginning=beginning[[\"Date\",\"Message\"]]\n",
    "middle=middle[[\"Date\",\"Message\"]]\n",
    "end = end[[\"Date\",\"Message\"]]"
   ]
  },
  {
   "cell_type": "code",
   "execution_count": 42,
   "metadata": {},
   "outputs": [
    {
     "data": {
      "text/html": [
       "<div>\n",
       "<style scoped>\n",
       "    .dataframe tbody tr th:only-of-type {\n",
       "        vertical-align: middle;\n",
       "    }\n",
       "\n",
       "    .dataframe tbody tr th {\n",
       "        vertical-align: top;\n",
       "    }\n",
       "\n",
       "    .dataframe thead th {\n",
       "        text-align: right;\n",
       "    }\n",
       "</style>\n",
       "<table border=\"1\" class=\"dataframe\">\n",
       "  <thead>\n",
       "    <tr style=\"text-align: right;\">\n",
       "      <th></th>\n",
       "      <th>Date</th>\n",
       "      <th>Message</th>\n",
       "      <th>Compound</th>\n",
       "    </tr>\n",
       "  </thead>\n",
       "  <tbody>\n",
       "    <tr>\n",
       "      <th>0</th>\n",
       "      <td>1998-12-03</td>\n",
       "      <td>'Twas The Night Before Christmas as written by a lawyer 'Twas the nocturnal segment of the diurnal period preceding the annual  Yuletide celebration was not in evidence among the possessors of th...</td>\n",
       "      <td>0.4019</td>\n",
       "    </tr>\n",
       "    <tr>\n",
       "      <th>1</th>\n",
       "      <td>1998-12-03</td>\n",
       "      <td>Hosiery was meticulously suspended from the forward edge of the  wood burning caloric apparatus regarding an imminent visitation from an eccentric philanthropist among whose  folkloric appellati...</td>\n",
       "      <td>-0.1779</td>\n",
       "    </tr>\n",
       "    <tr>\n",
       "      <th>2</th>\n",
       "      <td>1998-12-03</td>\n",
       "      <td>Nicholas (party of the  second part).</td>\n",
       "      <td>0.4019</td>\n",
       "    </tr>\n",
       "    <tr>\n",
       "      <th>3</th>\n",
       "      <td>1998-12-03</td>\n",
       "      <td>The prepubescent siblings accommodations of repose hallucinations of variegated fruit confections moving rhythmically through  their cerebrums.</td>\n",
       "      <td>0.0000</td>\n",
       "    </tr>\n",
       "    <tr>\n",
       "      <th>4</th>\n",
       "      <td>1998-12-03</td>\n",
       "      <td>My conjugal partner and I coverings when upon the avenaceous exterior portion of the grounds there ascended such  a cacophony of dissonance that I felt compelled to arise with alacrity from  my ...</td>\n",
       "      <td>0.0516</td>\n",
       "    </tr>\n",
       "  </tbody>\n",
       "</table>\n",
       "</div>"
      ],
      "text/plain": [
       "         Date  \\\n",
       "0  1998-12-03   \n",
       "1  1998-12-03   \n",
       "2  1998-12-03   \n",
       "3  1998-12-03   \n",
       "4  1998-12-03   \n",
       "\n",
       "                                                                                                                                                                                                   Message  \\\n",
       "0   'Twas The Night Before Christmas as written by a lawyer 'Twas the nocturnal segment of the diurnal period preceding the annual  Yuletide celebration was not in evidence among the possessors of th...   \n",
       "1    Hosiery was meticulously suspended from the forward edge of the  wood burning caloric apparatus regarding an imminent visitation from an eccentric philanthropist among whose  folkloric appellati...   \n",
       "2                                                                                                                                                                    Nicholas (party of the  second part).   \n",
       "3                                                          The prepubescent siblings accommodations of repose hallucinations of variegated fruit confections moving rhythmically through  their cerebrums.   \n",
       "4    My conjugal partner and I coverings when upon the avenaceous exterior portion of the grounds there ascended such  a cacophony of dissonance that I felt compelled to arise with alacrity from  my ...   \n",
       "\n",
       "   Compound  \n",
       "0    0.4019  \n",
       "1   -0.1779  \n",
       "2    0.4019  \n",
       "3    0.0000  \n",
       "4    0.0516  "
      ]
     },
     "execution_count": 42,
     "metadata": {},
     "output_type": "execute_result"
    }
   ],
   "source": [
    "dict10 = pd.DataFrame(dicti,columns=['Compound'])\n",
    "dat1 = pd.concat( [beginning,dict10],axis=1)\n",
    "dat1.head()"
   ]
  },
  {
   "cell_type": "code",
   "execution_count": 44,
   "metadata": {},
   "outputs": [],
   "source": [
    "dict11 = pd.DataFrame(dicti2,columns=['Compound'])\n",
    "dat2 = pd.concat( [middle,dict11],axis=1)\n"
   ]
  },
  {
   "cell_type": "code",
   "execution_count": 45,
   "metadata": {},
   "outputs": [],
   "source": [
    "dict12 = pd.DataFrame(dicti3,columns=['Compound'])\n",
    "end = end.reset_index(drop=True)\n",
    "dat3 = pd.concat( [end,dict12],axis=1)"
   ]
  },
  {
   "cell_type": "code",
   "execution_count": 46,
   "metadata": {},
   "outputs": [
    {
     "data": {
      "text/plain": [
       "39997"
      ]
     },
     "execution_count": 46,
     "metadata": {},
     "output_type": "execute_result"
    }
   ],
   "source": [
    "list1 = (dat1,dat2,dat3)\n",
    "df_new = pd.concat(list1)\n",
    "df_new.head()\n",
    "len(df_new)"
   ]
  },
  {
   "cell_type": "code",
   "execution_count": 47,
   "metadata": {},
   "outputs": [
    {
     "data": {
      "text/html": [
       "<div>\n",
       "<style scoped>\n",
       "    .dataframe tbody tr th:only-of-type {\n",
       "        vertical-align: middle;\n",
       "    }\n",
       "\n",
       "    .dataframe tbody tr th {\n",
       "        vertical-align: top;\n",
       "    }\n",
       "\n",
       "    .dataframe thead th {\n",
       "        text-align: right;\n",
       "    }\n",
       "</style>\n",
       "<table border=\"1\" class=\"dataframe\">\n",
       "  <thead>\n",
       "    <tr style=\"text-align: right;\">\n",
       "      <th></th>\n",
       "      <th>Date</th>\n",
       "      <th>Message</th>\n",
       "      <th>Compound</th>\n",
       "    </tr>\n",
       "  </thead>\n",
       "  <tbody>\n",
       "    <tr>\n",
       "      <th>0</th>\n",
       "      <td>1998-12-03</td>\n",
       "      <td>'Twas The Night Before Christmas as written by a lawyer 'Twas the nocturnal segment of the diurnal period preceding the annual  Yuletide celebration was not in evidence among the possessors of th...</td>\n",
       "      <td>0.4019</td>\n",
       "    </tr>\n",
       "    <tr>\n",
       "      <th>1</th>\n",
       "      <td>1998-12-03</td>\n",
       "      <td>Hosiery was meticulously suspended from the forward edge of the  wood burning caloric apparatus regarding an imminent visitation from an eccentric philanthropist among whose  folkloric appellati...</td>\n",
       "      <td>-0.1779</td>\n",
       "    </tr>\n",
       "    <tr>\n",
       "      <th>2</th>\n",
       "      <td>1998-12-03</td>\n",
       "      <td>Nicholas (party of the  second part).</td>\n",
       "      <td>0.4019</td>\n",
       "    </tr>\n",
       "    <tr>\n",
       "      <th>3</th>\n",
       "      <td>1998-12-03</td>\n",
       "      <td>The prepubescent siblings accommodations of repose hallucinations of variegated fruit confections moving rhythmically through  their cerebrums.</td>\n",
       "      <td>0.0000</td>\n",
       "    </tr>\n",
       "    <tr>\n",
       "      <th>4</th>\n",
       "      <td>1998-12-03</td>\n",
       "      <td>My conjugal partner and I coverings when upon the avenaceous exterior portion of the grounds there ascended such  a cacophony of dissonance that I felt compelled to arise with alacrity from  my ...</td>\n",
       "      <td>0.0516</td>\n",
       "    </tr>\n",
       "    <tr>\n",
       "      <th>...</th>\n",
       "      <td>...</td>\n",
       "      <td>...</td>\n",
       "      <td>...</td>\n",
       "    </tr>\n",
       "    <tr>\n",
       "      <th>9994</th>\n",
       "      <td>2001-12-31</td>\n",
       "      <td>.</td>\n",
       "      <td>0.0000</td>\n",
       "    </tr>\n",
       "    <tr>\n",
       "      <th>9995</th>\n",
       "      <td>2001-12-31</td>\n",
       "      <td>More Videos                          Than You Have Free Time And Clean Undies As Well As Loads                          Of Live Feeds And Live Chats To Keep You Going On Those                     ...</td>\n",
       "      <td>0.7964</td>\n",
       "    </tr>\n",
       "    <tr>\n",
       "      <th>9996</th>\n",
       "      <td>2001-12-31</td>\n",
       "      <td>.</td>\n",
       "      <td>0.0000</td>\n",
       "    </tr>\n",
       "    <tr>\n",
       "      <th>9997</th>\n",
       "      <td>2001-12-31</td>\n",
       "      <td>.</td>\n",
       "      <td>0.0000</td>\n",
       "    </tr>\n",
       "    <tr>\n",
       "      <th>9998</th>\n",
       "      <td>2001-12-31</td>\n",
       "      <td>For The Exclusive  Day &lt;font color=\"#FF\"&gt;&lt;b&gt;$.</td>\n",
       "      <td>0.1280</td>\n",
       "    </tr>\n",
       "  </tbody>\n",
       "</table>\n",
       "<p>39997 rows × 3 columns</p>\n",
       "</div>"
      ],
      "text/plain": [
       "            Date  \\\n",
       "0     1998-12-03   \n",
       "1     1998-12-03   \n",
       "2     1998-12-03   \n",
       "3     1998-12-03   \n",
       "4     1998-12-03   \n",
       "...          ...   \n",
       "9994  2001-12-31   \n",
       "9995  2001-12-31   \n",
       "9996  2001-12-31   \n",
       "9997  2001-12-31   \n",
       "9998  2001-12-31   \n",
       "\n",
       "                                                                                                                                                                                                      Message  \\\n",
       "0      'Twas The Night Before Christmas as written by a lawyer 'Twas the nocturnal segment of the diurnal period preceding the annual  Yuletide celebration was not in evidence among the possessors of th...   \n",
       "1       Hosiery was meticulously suspended from the forward edge of the  wood burning caloric apparatus regarding an imminent visitation from an eccentric philanthropist among whose  folkloric appellati...   \n",
       "2                                                                                                                                                                       Nicholas (party of the  second part).   \n",
       "3                                                             The prepubescent siblings accommodations of repose hallucinations of variegated fruit confections moving rhythmically through  their cerebrums.   \n",
       "4       My conjugal partner and I coverings when upon the avenaceous exterior portion of the grounds there ascended such  a cacophony of dissonance that I felt compelled to arise with alacrity from  my ...   \n",
       "...                                                                                                                                                                                                       ...   \n",
       "9994                                                                                                                                                                                                        .   \n",
       "9995  More Videos                          Than You Have Free Time And Clean Undies As Well As Loads                          Of Live Feeds And Live Chats To Keep You Going On Those                     ...   \n",
       "9996                                                                                                                                                                                                        .   \n",
       "9997                                                                                                                                                                                                        .   \n",
       "9998                                                                                                                                                           For The Exclusive  Day <font color=\"#FF\"><b>$.   \n",
       "\n",
       "      Compound  \n",
       "0       0.4019  \n",
       "1      -0.1779  \n",
       "2       0.4019  \n",
       "3       0.0000  \n",
       "4       0.0516  \n",
       "...        ...  \n",
       "9994    0.0000  \n",
       "9995    0.7964  \n",
       "9996    0.0000  \n",
       "9997    0.0000  \n",
       "9998    0.1280  \n",
       "\n",
       "[39997 rows x 3 columns]"
      ]
     },
     "execution_count": 47,
     "metadata": {},
     "output_type": "execute_result"
    }
   ],
   "source": [
    "df_new"
   ]
  },
  {
   "cell_type": "code",
   "execution_count": 48,
   "metadata": {},
   "outputs": [
    {
     "data": {
      "text/plain": [
       "Text(0.5, 1.0, 'Histogram of Values')"
      ]
     },
     "execution_count": 48,
     "metadata": {},
     "output_type": "execute_result"
    },
    {
     "data": {
      "image/png": "[encoded data removed]",
      "text/plain": [
       "<Figure size 640x480 with 1 Axes>"
      ]
     },
     "metadata": {},
     "output_type": "display_data"
    }
   ],
   "source": [
    "# The classifier gives scores between -1 and 1, 0 being neutral so I had to organize all of them.\n",
    "# Before I label it. Let me see how the actual data is distributed.\n",
    "plt.hist(df_new['Compound'],bins=4)\n",
    "plt.title(\"Histogram of Values\")\n",
    "# It looks like most values are neutral"
   ]
  },
  {
   "cell_type": "code",
   "execution_count": 49,
   "metadata": {},
   "outputs": [
    {
     "name": "stdout",
     "output_type": "stream",
     "text": [
      "Mean Value of the data I chose : 0.0749797053136876\n"
     ]
    }
   ],
   "source": [
    "df_new.Compound.mean()\n",
    "print(\"Mean Value of the data I chose :\", df_new.Compound.mean())"
   ]
  },
  {
   "cell_type": "code",
   "execution_count": 50,
   "metadata": {},
   "outputs": [
    {
     "name": "stdout",
     "output_type": "stream",
     "text": [
      "Max Value of the data I chose : 0.995\n"
     ]
    }
   ],
   "source": [
    "df_new.Compound.max()\n",
    "print(\"Max Value of the data I chose :\", df_new.Compound.max())"
   ]
  },
  {
   "cell_type": "code",
   "execution_count": 51,
   "metadata": {},
   "outputs": [
    {
     "name": "stdout",
     "output_type": "stream",
     "text": [
      "Min Value of the data I chose : -0.9314\n"
     ]
    }
   ],
   "source": [
    "df_new.Compound.min()\n",
    "print(\"Min Value of the data I chose :\", df_new.Compound.min())"
   ]
  },
  {
   "cell_type": "code",
   "execution_count": 52,
   "metadata": {},
   "outputs": [
    {
     "data": {
      "text/plain": [
       "array(['pos', 'neg', 'neutral'], dtype=object)"
      ]
     },
     "execution_count": 52,
     "metadata": {},
     "output_type": "execute_result"
    }
   ],
   "source": [
    "# I then Crated labels of positive and negative based on the ratings and my new file became\n",
    "\n",
    "df = df.reset_index(drop=True)\n",
    "df=pd.read_csv('labelled_data')\n",
    "df=df[['Message','Sentiment_result']]\n",
    "df.Sentiment_result.unique()"
   ]
  },
  {
   "cell_type": "code",
   "execution_count": 97,
   "metadata": {},
   "outputs": [],
   "source": [
    "# Now I think my data is actually ready to be used for a support vector machine"
   ]
  },
  {
   "cell_type": "code",
   "execution_count": 98,
   "metadata": {},
   "outputs": [
    {
     "data": {
      "text/html": [
       "<div>\n",
       "<style scoped>\n",
       "    .dataframe tbody tr th:only-of-type {\n",
       "        vertical-align: middle;\n",
       "    }\n",
       "\n",
       "    .dataframe tbody tr th {\n",
       "        vertical-align: top;\n",
       "    }\n",
       "\n",
       "    .dataframe thead th {\n",
       "        text-align: right;\n",
       "    }\n",
       "</style>\n",
       "<table border=\"1\" class=\"dataframe\">\n",
       "  <thead>\n",
       "    <tr style=\"text-align: right;\">\n",
       "      <th></th>\n",
       "      <th>Message</th>\n",
       "      <th>Sentiment_result</th>\n",
       "    </tr>\n",
       "  </thead>\n",
       "  <tbody>\n",
       "    <tr>\n",
       "      <th>0</th>\n",
       "      <td>Twas The Night Before Christmas as written by a lawyer Twas the nocturnal segment of the diurnal period preceding the annual  Yuletide celebration was not in evidence among the possessors of this...</td>\n",
       "      <td>pos</td>\n",
       "    </tr>\n",
       "    <tr>\n",
       "      <th>1</th>\n",
       "      <td>Hosiery was meticulously suspended from the forward edge of the  wood burning caloric apparatus regarding an imminent visitation from an eccentric philanthropist among whose  folkloric appellati...</td>\n",
       "      <td>neg</td>\n",
       "    </tr>\n",
       "    <tr>\n",
       "      <th>2</th>\n",
       "      <td>Nicholas party of the  second part.</td>\n",
       "      <td>pos</td>\n",
       "    </tr>\n",
       "    <tr>\n",
       "      <th>3</th>\n",
       "      <td>The prepubescent siblings accommodations of repose hallucinations of variegated fruit confections moving rhythmically through  their cerebrums.</td>\n",
       "      <td>neg</td>\n",
       "    </tr>\n",
       "    <tr>\n",
       "      <th>4</th>\n",
       "      <td>My conjugal partner and I coverings when upon the avenaceous exterior portion of the grounds there ascended such  a cacophony of dissonance that I felt compelled to arise with alacrity from  my ...</td>\n",
       "      <td>pos</td>\n",
       "    </tr>\n",
       "  </tbody>\n",
       "</table>\n",
       "</div>"
      ],
      "text/plain": [
       "                                                                                                                                                                                                   Message  \\\n",
       "0   Twas The Night Before Christmas as written by a lawyer Twas the nocturnal segment of the diurnal period preceding the annual  Yuletide celebration was not in evidence among the possessors of this...   \n",
       "1    Hosiery was meticulously suspended from the forward edge of the  wood burning caloric apparatus regarding an imminent visitation from an eccentric philanthropist among whose  folkloric appellati...   \n",
       "2                                                                                                                                                                      Nicholas party of the  second part.   \n",
       "3                                                          The prepubescent siblings accommodations of repose hallucinations of variegated fruit confections moving rhythmically through  their cerebrums.   \n",
       "4    My conjugal partner and I coverings when upon the avenaceous exterior portion of the grounds there ascended such  a cacophony of dissonance that I felt compelled to arise with alacrity from  my ...   \n",
       "\n",
       "  Sentiment_result  \n",
       "0              pos  \n",
       "1              neg  \n",
       "2              pos  \n",
       "3              neg  \n",
       "4              pos  "
      ]
     },
     "execution_count": 98,
     "metadata": {},
     "output_type": "execute_result"
    }
   ],
   "source": [
    "df.head()"
   ]
  },
  {
   "cell_type": "code",
   "execution_count": 107,
   "metadata": {},
   "outputs": [],
   "source": [
    "import re\n",
    "df= pd.read_csv('labelled_data')\n",
    "patterin = r'([F{2,}])'\n",
    "df = df.replace(patterin, \" \",regex=True)\n",
    "patterin = r'([X{2,}])'\n",
    "df = df.replace(patterin, \" \",regex=True)\n",
    "df = df[['Message','Sentiment_result']]\n",
    "df = df.reset_index(drop=True)\n",
    "df = df.loc[df.Message.str.len() > 5].reset_index(drop=True)\n"
   ]
  },
  {
   "cell_type": "code",
   "execution_count": 108,
   "metadata": {},
   "outputs": [],
   "source": [
    "# Shaping data\n",
    "df.shape\n",
    "# Splitting it\n",
    "train, test = train_test_split(df, test_size=0.2)\n",
    "# Just very basic here\n",
    "vectorizer = TfidfVectorizer()\n",
    "# Train and transform\n",
    "train_vectors1 = vectorizer.fit_transform(train['Message'])\n",
    "test_vectors1 = vectorizer.transform(test['Message'])"
   ]
  },
  {
   "cell_type": "code",
   "execution_count": 109,
   "metadata": {},
   "outputs": [],
   "source": [
    "classifier_linear = svm.SVC(kernel='linear')\n",
    "\n",
    "classifier_linear.fit(train_vectors1, train['Sentiment_result'])\n",
    "\n",
    "prediction_linear = classifier_linear.predict(test_vectors1)\n"
   ]
  },
  {
   "cell_type": "code",
   "execution_count": 119,
   "metadata": {},
   "outputs": [],
   "source": [
    "y_pred=prediction_linear\n",
    "y_true=test['Sentiment_result']\n"
   ]
  },
  {
   "cell_type": "code",
   "execution_count": 115,
   "metadata": {},
   "outputs": [],
   "source": [
    "# Now for a non-linear-classifier\n",
    "report = classification_report(test['Sentiment_result'], prediction_linear, output_dict=True)"
   ]
  },
  {
   "cell_type": "code",
   "execution_count": 120,
   "metadata": {},
   "outputs": [
    {
     "data": {
      "text/html": [
       "<div>\n",
       "<style scoped>\n",
       "    .dataframe tbody tr th:only-of-type {\n",
       "        vertical-align: middle;\n",
       "    }\n",
       "\n",
       "    .dataframe tbody tr th {\n",
       "        vertical-align: top;\n",
       "    }\n",
       "\n",
       "    .dataframe thead th {\n",
       "        text-align: right;\n",
       "    }\n",
       "</style>\n",
       "<table border=\"1\" class=\"dataframe\">\n",
       "  <thead>\n",
       "    <tr style=\"text-align: right;\">\n",
       "      <th></th>\n",
       "      <th>neg</th>\n",
       "      <th>pos</th>\n",
       "      <th>accuracy</th>\n",
       "      <th>macro avg</th>\n",
       "      <th>weighted avg</th>\n",
       "    </tr>\n",
       "  </thead>\n",
       "  <tbody>\n",
       "    <tr>\n",
       "      <th>precision</th>\n",
       "      <td>0.943728</td>\n",
       "      <td>0.954882</td>\n",
       "      <td>0.94711</td>\n",
       "      <td>0.949305</td>\n",
       "      <td>0.947395</td>\n",
       "    </tr>\n",
       "    <tr>\n",
       "      <th>recall</th>\n",
       "      <td>0.979617</td>\n",
       "      <td>0.880745</td>\n",
       "      <td>0.94711</td>\n",
       "      <td>0.930181</td>\n",
       "      <td>0.947110</td>\n",
       "    </tr>\n",
       "    <tr>\n",
       "      <th>f1-score</th>\n",
       "      <td>0.961338</td>\n",
       "      <td>0.916317</td>\n",
       "      <td>0.94711</td>\n",
       "      <td>0.938827</td>\n",
       "      <td>0.946536</td>\n",
       "    </tr>\n",
       "    <tr>\n",
       "      <th>support</th>\n",
       "      <td>3287.000000</td>\n",
       "      <td>1610.000000</td>\n",
       "      <td>0.94711</td>\n",
       "      <td>4897.000000</td>\n",
       "      <td>4897.000000</td>\n",
       "    </tr>\n",
       "  </tbody>\n",
       "</table>\n",
       "</div>"
      ],
      "text/plain": [
       "                   neg          pos  accuracy    macro avg  weighted avg\n",
       "precision     0.943728     0.954882   0.94711     0.949305      0.947395\n",
       "recall        0.979617     0.880745   0.94711     0.930181      0.947110\n",
       "f1-score      0.961338     0.916317   0.94711     0.938827      0.946536\n",
       "support    3287.000000  1610.000000   0.94711  4897.000000   4897.000000"
      ]
     },
     "execution_count": 120,
     "metadata": {},
     "output_type": "execute_result"
    }
   ],
   "source": [
    "report = pd.DataFrame(report)\n",
    "report"
   ]
  },
  {
   "cell_type": "code",
   "execution_count": 124,
   "metadata": {},
   "outputs": [],
   "source": [
    "matrix=confusion_matrix(y_true,y_pred)"
   ]
  },
  {
   "cell_type": "code",
   "execution_count": 128,
   "metadata": {},
   "outputs": [
    {
     "data": {
      "text/plain": [
       "<AxesSubplot: >"
      ]
     },
     "execution_count": 128,
     "metadata": {},
     "output_type": "execute_result"
    },
    {
     "data": {
      "image/png": "[encoded data removed]",
      "text/plain": [
       "<Figure size 640x480 with 2 Axes>"
      ]
     },
     "metadata": {},
     "output_type": "display_data"
    }
   ],
   "source": [
    "import seaborn as sns\n",
    "\n",
    "labels = ['True Neg: 3220','False Pos : 67','False Neg : 192','True Pos: 1418']\n",
    "labels = np.asarray(labels).reshape(2,2)\n",
    "sns.heatmap(matrix, annot=labels, fmt='', cmap='Blues')\n"
   ]
  },
  {
   "cell_type": "code",
   "execution_count": null,
   "metadata": {},
   "outputs": [],
   "source": []
  },
  {
   "cell_type": "code",
   "execution_count": null,
   "metadata": {},
   "outputs": [],
   "source": []
  }
 ],
 "metadata": {
  "kernelspec": {
   "display_name": "Python 3",
   "language": "python",
   "name": "python3"
  },
  "language_info": {
   "codemirror_mode": {
    "name": "ipython",
    "version": 3
   },
   "file_extension": ".py",
   "mimetype": "text/x-python",
   "name": "python",
   "nbconvert_exporter": "python",
   "pygments_lexer": "ipython3",
   "version": "3.11.4"
  },
  "orig_nbformat": 4
 },
 "nbformat": 4,
 "nbformat_minor": 2
}
